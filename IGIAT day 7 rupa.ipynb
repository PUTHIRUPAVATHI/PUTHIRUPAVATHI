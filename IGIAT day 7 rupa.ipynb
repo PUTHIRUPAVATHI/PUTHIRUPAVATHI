{
 "cells": [
  {
   "cell_type": "code",
   "execution_count": 2,
   "id": "d3bdb9e1",
   "metadata": {},
   "outputs": [
    {
     "name": "stdout",
     "output_type": "stream",
     "text": [
      "Enter a number :123\n",
      "3 2 1 "
     ]
    }
   ],
   "source": [
    "# input: 123\n",
    "# output:321\n",
    "a = int(input(\"Enter a number :\"))\n",
    "while a !=0:\n",
    "    print(a%10,end= \" \")\n",
    "    a = a//10"
   ]
  },
  {
   "cell_type": "code",
   "execution_count": 9,
   "id": "33f2b3bd",
   "metadata": {},
   "outputs": [
    {
     "name": "stdout",
     "output_type": "stream",
     "text": [
      "enter a number :3\n",
      "three "
     ]
    }
   ],
   "source": [
    "# input: 123\n",
    "# output: one two three\n",
    "a =int(input(\"enter a number :\"))\n",
    "while a !=0:\n",
    "    b= a%10\n",
    "    a= a//10\n",
    "    if b ==0:\n",
    "        print(\"zero\",end =\" \")\n",
    "    elif b==1:\n",
    "        print(\"one\",end =\" \")\n",
    "    elif b==2:\n",
    "        print(\"two\",end =\" \")\n",
    "    elif b==3:\n",
    "        print(\"three\",end =\" \")\n",
    "    elif b==4:\n",
    "        print(\"four\",end =\" \")\n",
    "    elif b==5:\n",
    "        print(\"five\",end =\" \")\n",
    "    elif b==6:\n",
    "         print(\"six\",end =\" \")\n",
    "    elif b==7:\n",
    "         print(\"seven\",end =\" \")\n",
    "    elif b==8:\n",
    "        print(\"eight\",end =\" \")\n",
    "    elif b==9:\n",
    "         print(\"nine\",end =\" \")\n",
    "       "
   ]
  },
  {
   "cell_type": "code",
   "execution_count": 3,
   "id": "7c3f4764",
   "metadata": {},
   "outputs": [
    {
     "name": "stdout",
     "output_type": "stream",
     "text": [
      "Requirement already satisfied: num2words in e:\\ark\\anaconda\\lib\\site-packages (0.5.10)\n",
      "Requirement already satisfied: docopt>=0.6.2 in e:\\ark\\anaconda\\lib\\site-packages (from num2words) (0.6.2)\n",
      "Note: you may need to restart the kernel to use updated packages.\n"
     ]
    }
   ],
   "source": [
    "pip install num2words"
   ]
  },
  {
   "cell_type": "code",
   "execution_count": 4,
   "id": "e8f7e5e7",
   "metadata": {},
   "outputs": [
    {
     "name": "stdout",
     "output_type": "stream",
     "text": [
      "one hundred and twenty-three\n"
     ]
    }
   ],
   "source": [
    "from num2words import num2words\n",
    "print(num2words(123))"
   ]
  },
  {
   "cell_type": "code",
   "execution_count": 7,
   "id": "9886731d",
   "metadata": {},
   "outputs": [
    {
     "name": "stdout",
     "output_type": "stream",
     "text": [
      "enter the number10\n",
      "10 9 8 7 6 5 4 3 2 1 "
     ]
    }
   ],
   "source": [
    "#input: 10\n",
    "#output: 10 9 8 7 6 5 4 3 2 1 \n",
    "i = int(input(\"enter the number\"))\n",
    "n = 1\n",
    "while i>= n:\n",
    "    print(i,end = \" \")\n",
    "    i = i-1"
   ]
  },
  {
   "cell_type": "code",
   "execution_count": 10,
   "id": "fc242e10",
   "metadata": {},
   "outputs": [
    {
     "name": "stdout",
     "output_type": "stream",
     "text": [
      "5855\n",
      "4\n"
     ]
    }
   ],
   "source": [
    "# find the count of digits \n",
    "n = int(input())\n",
    "c = 0\n",
    "while n !=0:\n",
    "    n =n//10\n",
    "    c = c+1\n",
    "print(c)    \n",
    "        "
   ]
  },
  {
   "cell_type": "markdown",
   "id": "c7e16e81",
   "metadata": {},
   "source": [
    "# BREAK STATEMENT\n",
    "  - WE CAN STOP THE LOOP WHEN THE CONDITION IS TRUE\n"
   ]
  },
  {
   "cell_type": "code",
   "execution_count": 17,
   "id": "d00bd403",
   "metadata": {},
   "outputs": [
    {
     "name": "stdout",
     "output_type": "stream",
     "text": [
      "1 2 3 4 "
     ]
    }
   ],
   "source": [
    "i = 1\n",
    "while i<=5:\n",
    "    print(i,end=\" \")\n",
    "    if i ==4:\n",
    "        break\n",
    "    i +=1    "
   ]
  },
  {
   "cell_type": "code",
   "execution_count": 6,
   "id": "783e5c40",
   "metadata": {},
   "outputs": [
    {
     "name": "stdout",
     "output_type": "stream",
     "text": [
      "1 2 4 5 6 "
     ]
    }
   ],
   "source": [
    "i = 0\n",
    "while i<=5:\n",
    "    i +=1\n",
    "    if i ==3:\n",
    "        continue\n",
    "    print(i,end=\" \")    "
   ]
  },
  {
   "cell_type": "markdown",
   "id": "fc1a4683",
   "metadata": {},
   "source": [
    "# FOR LOOP STATEMENT \n",
    " - SYNTAX"
   ]
  },
  {
   "cell_type": "code",
   "execution_count": null,
   "id": "dc04a6ee",
   "metadata": {},
   "outputs": [],
   "source": [
    "for <local variable> in <objective name>"
   ]
  },
  {
   "cell_type": "code",
   "execution_count": 10,
   "id": "8f1da3e5",
   "metadata": {},
   "outputs": [
    {
     "name": "stdout",
     "output_type": "stream",
     "text": [
      "0 1 2 3 4 "
     ]
    }
   ],
   "source": [
    "for i in range(5):\n",
    "    print(i,end=\" \")"
   ]
  },
  {
   "cell_type": "code",
   "execution_count": 14,
   "id": "1de89712",
   "metadata": {},
   "outputs": [
    {
     "name": "stdout",
     "output_type": "stream",
     "text": [
      "2 3 4 5 "
     ]
    }
   ],
   "source": [
    "for i in range(2,6):\n",
    "    print(i,end=\" \")"
   ]
  },
  {
   "cell_type": "code",
   "execution_count": 17,
   "id": "06bcfeae",
   "metadata": {},
   "outputs": [
    {
     "name": "stdout",
     "output_type": "stream",
     "text": [
      "1 3 5 7 9 "
     ]
    }
   ],
   "source": [
    "#print odd number \n",
    "for i in range(1,10,2):\n",
    "    print(i,end=\" \")"
   ]
  },
  {
   "cell_type": "code",
   "execution_count": 21,
   "id": "504df32c",
   "metadata": {},
   "outputs": [
    {
     "name": "stdout",
     "output_type": "stream",
     "text": [
      "1 2 3 4 5 6 7 8 9 "
     ]
    }
   ],
   "source": [
    "#print 1 2 3 4 5 6 7 8 9 10\n",
    "for i in range (1, 10):\n",
    "    print(i,end=\" \")"
   ]
  },
  {
   "cell_type": "code",
   "execution_count": 25,
   "id": "5633015e",
   "metadata": {},
   "outputs": [
    {
     "name": "stdout",
     "output_type": "stream",
     "text": [
      "10 9 8 7 6 5 4 3 2 "
     ]
    }
   ],
   "source": [
    "#print 10 9 8 7 6 5 4 3 2 1 \n",
    "for i in range(10,1,-1):\n",
    "    print(i,end=\" \")"
   ]
  },
  {
   "cell_type": "code",
   "execution_count": 26,
   "id": "c67f7e24",
   "metadata": {},
   "outputs": [
    {
     "name": "stdout",
     "output_type": "stream",
     "text": [
      "0 15 30 45 60 75 90 "
     ]
    }
   ],
   "source": [
    "#from 0 to 100 print multiples of both 3 ND 5\n",
    "for i in range(0,100):\n",
    "    if i%3 ==0 and i%5 ==0:\n",
    "        print(i,end=\" \")\n",
    "        "
   ]
  },
  {
   "cell_type": "code",
   "execution_count": 35,
   "id": "c97ebcc3",
   "metadata": {},
   "outputs": [
    {
     "name": "stdout",
     "output_type": "stream",
     "text": [
      "sum IS: 5050\n"
     ]
    }
   ],
   "source": [
    "#from 0 to 100 print all number\n",
    "s = 0\n",
    "for i in range(0,101,1):\n",
    "    s = s+i\n",
    "print(\"sum IS:\",s)\n",
    "    "
   ]
  },
  {
   "cell_type": "code",
   "execution_count": 37,
   "id": "b6fc25c7",
   "metadata": {},
   "outputs": [
    {
     "name": "stdout",
     "output_type": "stream",
     "text": [
      "100\n",
      "5050\n"
     ]
    }
   ],
   "source": [
    "n = int(input())\n",
    "s = 0\n",
    "for i in range(1,n+1,1):\n",
    "    s = s+i\n",
    "print(s)"
   ]
  },
  {
   "cell_type": "code",
   "execution_count": null,
   "id": "4d790ecf",
   "metadata": {},
   "outputs": [],
   "source": []
  }
 ],
 "metadata": {
  "kernelspec": {
   "display_name": "Python 3",
   "language": "python",
   "name": "python3"
  },
  "language_info": {
   "codemirror_mode": {
    "name": "ipython",
    "version": 3
   },
   "file_extension": ".py",
   "mimetype": "text/x-python",
   "name": "python",
   "nbconvert_exporter": "python",
   "pygments_lexer": "ipython3",
   "version": "3.8.8"
  }
 },
 "nbformat": 4,
 "nbformat_minor": 5
}
