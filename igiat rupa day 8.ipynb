{
 "cells": [
  {
   "cell_type": "markdown",
   "id": "e024c6c6",
   "metadata": {},
   "source": [
    "# Data structures:\n",
    "- list\n",
    "- tuple\n",
    "- dictionary\n",
    "- it will store data partucular data structure\n",
    "- soting\n",
    "- searching\n",
    "- storing"
   ]
  },
  {
   "cell_type": "code",
   "execution_count": 1,
   "id": "5455a1f7",
   "metadata": {},
   "outputs": [
    {
     "name": "stdout",
     "output_type": "stream",
     "text": [
      "[1, 2, 3, 4, 5, 6, 7]\n"
     ]
    }
   ],
   "source": [
    "l = [1,2,3,4,5,6,7]\n",
    "print(l)"
   ]
  },
  {
   "cell_type": "code",
   "execution_count": 4,
   "id": "41d7f1f9",
   "metadata": {},
   "outputs": [
    {
     "name": "stdout",
     "output_type": "stream",
     "text": [
      "1\n",
      "1\n"
     ]
    }
   ],
   "source": [
    "# Acess 1st element\n",
    "print(l[0])\n",
    "print(l[-7])\n"
   ]
  },
  {
   "cell_type": "code",
   "execution_count": 5,
   "id": "3e65bc89",
   "metadata": {},
   "outputs": [
    {
     "name": "stdout",
     "output_type": "stream",
     "text": [
      "[1, 2, 3, 4, 5]\n",
      "[2, 3, 4]\n"
     ]
    }
   ],
   "source": [
    "#acess range of element\n",
    "print(l[0:5])\n",
    "print(l[1:4])\n"
   ]
  },
  {
   "cell_type": "markdown",
   "id": "7d1fec8e",
   "metadata": {},
   "source": [
    "# update the element"
   ]
  },
  {
   "cell_type": "code",
   "execution_count": 6,
   "id": "4d524594",
   "metadata": {},
   "outputs": [
    {
     "name": "stdout",
     "output_type": "stream",
     "text": [
      "[1, 2, 3, 4, 5, 6, 7]\n",
      "[1, 2, 10, 4, 5, 6, 7]\n"
     ]
    }
   ],
   "source": [
    "l = [1,2,3,4,5,6,7]\n",
    "print(l)\n",
    "l[2]=10\n",
    "print(l)"
   ]
  },
  {
   "cell_type": "code",
   "execution_count": 7,
   "id": "f9ea788b",
   "metadata": {},
   "outputs": [
    {
     "name": "stdout",
     "output_type": "stream",
     "text": [
      "[1, 2, 3, 4, 5, 6, 7]\n",
      "[9, 8, 7, 3, 4, 5, 6, 7]\n"
     ]
    }
   ],
   "source": [
    "# update the range of element\n",
    "l = [1,2,3,4,5,6,7]\n",
    "print(l)\n",
    "l[0:2]= [9,8,7]\n",
    "print(l)"
   ]
  },
  {
   "cell_type": "markdown",
   "id": "c72ef21b",
   "metadata": {},
   "source": [
    "# LIST METHODS:"
   ]
  },
  {
   "cell_type": "markdown",
   "id": "ded124b1",
   "metadata": {},
   "source": [
    "## INSERT METHOD:\n",
    "- IT INSERT items in specific index"
   ]
  },
  {
   "cell_type": "code",
   "execution_count": 8,
   "id": "65c7394d",
   "metadata": {},
   "outputs": [
    {
     "name": "stdout",
     "output_type": "stream",
     "text": [
      "[1, 2, 3, 4, 'rupa', 5, 6, 7]\n"
     ]
    }
   ],
   "source": [
    "l = [1,2,3,4,5,6,7]\n",
    "l.insert(4,\"rupa\")\n",
    "print(l)"
   ]
  },
  {
   "cell_type": "markdown",
   "id": "880edcc4",
   "metadata": {},
   "source": [
    "# append method\n",
    "- add an item in the end list"
   ]
  },
  {
   "cell_type": "code",
   "execution_count": 9,
   "id": "4a9c881a",
   "metadata": {},
   "outputs": [
    {
     "name": "stdout",
     "output_type": "stream",
     "text": [
      "[1, 2, 3, 4, 5, 6, 7, 67, 32]\n"
     ]
    }
   ],
   "source": [
    "l = [1,2,3,4,5,6,7]\n",
    "l.append(67)\n",
    "l\n",
    "l.append(32)\n",
    "print(l)"
   ]
  },
  {
   "cell_type": "markdown",
   "id": "6a07f9e0",
   "metadata": {},
   "source": [
    "# extend list:\n",
    "- apppend element from another list of current list"
   ]
  },
  {
   "cell_type": "code",
   "execution_count": 11,
   "id": "2124deff",
   "metadata": {},
   "outputs": [
    {
     "name": "stdout",
     "output_type": "stream",
     "text": [
      "[1, 2, 3, 4, 5, 6, 7, 9, 10, 11, 12]\n",
      "[9, 10, 11, 12, 1, 2, 3, 4, 5, 6, 7, 9, 10, 11, 12]\n"
     ]
    }
   ],
   "source": [
    "l = [1,2,3,4,5,6,7]\n",
    "l1= [9,10,11,12]\n",
    "l.extend(l1)\n",
    "l1.extend(l)\n",
    "print(l)\n",
    "print(l1)"
   ]
  },
  {
   "cell_type": "code",
   "execution_count": 30,
   "id": "b81db389",
   "metadata": {},
   "outputs": [
    {
     "name": "stdout",
     "output_type": "stream",
     "text": [
      "[12, 13, 14, 15, 16, 17, 21, 22, 23, 24]\n",
      "[12, 13, 14, 15, 16, 17, 21, 22, 23, 24, 21, 22, 23, 24]\n"
     ]
    }
   ],
   "source": [
    "l = [12,13,14,15,16,17]\n",
    "l1 = [21,22,23,24]\n",
    "l.extend(l1)\n",
    "print(l)\n",
    "l.extend(l1)\n",
    "print(l)"
   ]
  },
  {
   "cell_type": "markdown",
   "id": "2ed01a72",
   "metadata": {},
   "source": [
    "# removed method:\n",
    "- it will remove value from list "
   ]
  },
  {
   "cell_type": "code",
   "execution_count": 13,
   "id": "2ae4a1e7",
   "metadata": {},
   "outputs": [
    {
     "name": "stdout",
     "output_type": "stream",
     "text": [
      "[1, 2, 4, 5, 6, 7]\n"
     ]
    }
   ],
   "source": [
    "l = [1,2,3,4,5,6,7]\n",
    "l.remove(3)\n",
    "print(l)"
   ]
  },
  {
   "cell_type": "code",
   "execution_count": 14,
   "id": "ba702555",
   "metadata": {},
   "outputs": [
    {
     "name": "stdout",
     "output_type": "stream",
     "text": [
      "[1, 2, 3, 4, 6, 7]\n"
     ]
    }
   ],
   "source": [
    "l = [1,2,3,4,5,6,7]\n",
    "l.remove(5)\n",
    "print(l)"
   ]
  },
  {
   "cell_type": "markdown",
   "id": "3832da68",
   "metadata": {},
   "source": [
    "# pop method:\n",
    "- it remove specific value"
   ]
  },
  {
   "cell_type": "code",
   "execution_count": 15,
   "id": "b7d58ed5",
   "metadata": {},
   "outputs": [
    {
     "data": {
      "text/plain": [
       "[1, 2, 3, 4, 6, 7]"
      ]
     },
     "execution_count": 15,
     "metadata": {},
     "output_type": "execute_result"
    }
   ],
   "source": [
    "l = [1,2,3,4,5,6,7]\n",
    "l.pop(4)\n",
    "l"
   ]
  },
  {
   "cell_type": "markdown",
   "id": "1c0115af",
   "metadata": {},
   "source": [
    "# del method\n",
    "- it also removes the specific index"
   ]
  },
  {
   "cell_type": "code",
   "execution_count": 16,
   "id": "6190eaf9",
   "metadata": {},
   "outputs": [
    {
     "data": {
      "text/plain": [
       "[1, 2, 4, 5, 6, 7]"
      ]
     },
     "execution_count": 16,
     "metadata": {},
     "output_type": "execute_result"
    }
   ],
   "source": [
    "l = [1,2,3,4,5,6,7]\n",
    "del l[2]\n",
    "l"
   ]
  },
  {
   "cell_type": "code",
   "execution_count": 21,
   "id": "4dea8781",
   "metadata": {},
   "outputs": [
    {
     "data": {
      "text/plain": [
       "[1, 2, 7]"
      ]
     },
     "execution_count": 21,
     "metadata": {},
     "output_type": "execute_result"
    }
   ],
   "source": [
    "l = [1,2,3,4,5,6,7,8,9]\n",
    "del l[2:6]\n",
    "l"
   ]
  },
  {
   "cell_type": "markdown",
   "id": "1c0cbe7d",
   "metadata": {},
   "source": [
    "# sort method\n",
    "- it will the short list ascending order"
   ]
  },
  {
   "cell_type": "code",
   "execution_count": 18,
   "id": "d88bbbca",
   "metadata": {},
   "outputs": [
    {
     "data": {
      "text/plain": [
       "[1, 3, 5, 7, 7, 8, 9]"
      ]
     },
     "execution_count": 18,
     "metadata": {},
     "output_type": "execute_result"
    }
   ],
   "source": [
    "l = [1,7,3,8,5,9,7]\n",
    "l.sort()\n",
    "l"
   ]
  },
  {
   "cell_type": "markdown",
   "id": "363d6014",
   "metadata": {},
   "source": [
    "# clear method \n",
    "- it emplist the list "
   ]
  },
  {
   "cell_type": "code",
   "execution_count": 19,
   "id": "58f89bbc",
   "metadata": {},
   "outputs": [
    {
     "data": {
      "text/plain": [
       "[]"
      ]
     },
     "execution_count": 19,
     "metadata": {},
     "output_type": "execute_result"
    }
   ],
   "source": [
    "l = [1,2,3,4,5,6,7]\n",
    "l.clear()\n",
    "l"
   ]
  },
  {
   "cell_type": "markdown",
   "id": "db2022b7",
   "metadata": {},
   "source": [
    "# reversed method\n"
   ]
  },
  {
   "cell_type": "code",
   "execution_count": 22,
   "id": "887757a2",
   "metadata": {},
   "outputs": [
    {
     "data": {
      "text/plain": [
       "[7, 6, 5, 4, 3, 2, 1]"
      ]
     },
     "execution_count": 22,
     "metadata": {},
     "output_type": "execute_result"
    }
   ],
   "source": [
    "l = [1,2,3,4,5,6,7]\n",
    "l.reverse()\n",
    "l"
   ]
  },
  {
   "cell_type": "markdown",
   "id": "121afe76",
   "metadata": {},
   "source": [
    "# copy method "
   ]
  },
  {
   "cell_type": "code",
   "execution_count": 23,
   "id": "195e6e65",
   "metadata": {},
   "outputs": [
    {
     "data": {
      "text/plain": [
       "[7, 8, 9]"
      ]
     },
     "execution_count": 23,
     "metadata": {},
     "output_type": "execute_result"
    }
   ],
   "source": [
    "l = [7,8,9,]\n",
    "l1 = l.copy()\n",
    "l1"
   ]
  },
  {
   "cell_type": "markdown",
   "id": "daf14ba1",
   "metadata": {},
   "source": [
    "# count()"
   ]
  },
  {
   "cell_type": "code",
   "execution_count": 33,
   "id": "bb169a1c",
   "metadata": {},
   "outputs": [
    {
     "data": {
      "text/plain": [
       "4"
      ]
     },
     "execution_count": 33,
     "metadata": {},
     "output_type": "execute_result"
    }
   ],
   "source": [
    "l = [1,5,89,6,6,2,5,6,4,5,6]\n",
    "l1 = l.count(6)\n",
    "l1"
   ]
  },
  {
   "cell_type": "markdown",
   "id": "b4324a51",
   "metadata": {},
   "source": [
    "# index:"
   ]
  },
  {
   "cell_type": "code",
   "execution_count": 32,
   "id": "ff005e5d",
   "metadata": {},
   "outputs": [
    {
     "data": {
      "text/plain": [
       "4"
      ]
     },
     "execution_count": 32,
     "metadata": {},
     "output_type": "execute_result"
    }
   ],
   "source": [
    "l = [1,2,3,4,5,6,7,8,9]\n",
    "l1 = l.index(5)\n",
    "l1"
   ]
  },
  {
   "cell_type": "code",
   "execution_count": 35,
   "id": "08c2abf4",
   "metadata": {},
   "outputs": [
    {
     "name": "stdout",
     "output_type": "stream",
     "text": [
      "7\n",
      "7\n",
      "1\n",
      "28\n",
      "4.0\n"
     ]
    }
   ],
   "source": [
    "l = [1,2,3,4,5,6,7]\n",
    "#length of list\n",
    "print(len(l))\n",
    "print(max(l))\n",
    "print(min(l))\n",
    "print(sum(l))\n",
    "# average\n",
    "print(sum(l)/len(l))"
   ]
  },
  {
   "cell_type": "markdown",
   "id": "7be00bdf",
   "metadata": {},
   "source": [
    "# tuple:\n",
    "- it cannot be changed/modified\n",
    "- tuple enclosed with round brackets and items are separed by comma\n"
   ]
  },
  {
   "cell_type": "code",
   "execution_count": 36,
   "id": "bfa3ceaf",
   "metadata": {},
   "outputs": [
    {
     "name": "stdout",
     "output_type": "stream",
     "text": [
      "(1, 2, 3, 4, 5, 6, 7)\n"
     ]
    }
   ],
   "source": [
    "l = [1,2,3,4,5,6,7]\n",
    "print(t)"
   ]
  },
  {
   "cell_type": "code",
   "execution_count": 37,
   "id": "4c24efa8",
   "metadata": {},
   "outputs": [
    {
     "name": "stdout",
     "output_type": "stream",
     "text": [
      "1\n",
      "(2, 3, 4, 5)\n"
     ]
    }
   ],
   "source": [
    "# Access\n",
    "l = (1,2,3,4,5,6,7)\n",
    "print(t[0])\n",
    "print(t[1:5])\n"
   ]
  },
  {
   "cell_type": "code",
   "execution_count": 38,
   "id": "4de3a4d3",
   "metadata": {},
   "outputs": [
    {
     "name": "stdout",
     "output_type": "stream",
     "text": [
      "[1, 2, 3, 4, 5, 6, 7]\n",
      "(1, 2, 3, 4, 5, 10, 7)\n"
     ]
    }
   ],
   "source": [
    "# update\n",
    "t = (1,2,3,4,5,6,7)\n",
    "t1 = list(t)\n",
    "print(t1)\n",
    "t1[5] = 10\n",
    "t = tuple(t1)\n",
    "print(t)"
   ]
  },
  {
   "cell_type": "code",
   "execution_count": 42,
   "id": "efb087fb",
   "metadata": {},
   "outputs": [
    {
     "name": "stdout",
     "output_type": "stream",
     "text": [
      "[1, 2, 3, 4, 5, 6, 7]\n",
      "(1, 2, 3, 4, 5, 6, 7, 12)\n"
     ]
    }
   ],
   "source": [
    "#append\n",
    "t = (1,2,3,4,5,6,7)\n",
    "t1 =list(t)\n",
    "print(t1)\n",
    "t1.append(12)\n",
    "t = tuple(t1)\n",
    "print(t)"
   ]
  },
  {
   "cell_type": "code",
   "execution_count": 44,
   "id": "b03d2192",
   "metadata": {},
   "outputs": [
    {
     "name": "stdout",
     "output_type": "stream",
     "text": [
      "[1, 2, 3, 4, 5, 6, 7]\n",
      "(1, 2, 3, 4, 5, 6, 7)\n"
     ]
    }
   ],
   "source": [
    "# extend \n",
    "t = (1,2,3,4,5,6,7)\n",
    "t1 = list(t)\n",
    "print(t1)\n",
    "t2 = (8,9,10)\n",
    "t1.extend(t1)\n",
    "t = tuple(t)\n",
    "print(t)"
   ]
  },
  {
   "cell_type": "code",
   "execution_count": 49,
   "id": "fbaada54",
   "metadata": {},
   "outputs": [
    {
     "name": "stdout",
     "output_type": "stream",
     "text": [
      "[1, 2, 3, 4, 5, 6]\n",
      "[1, 2, 4, 5, 6]\n"
     ]
    }
   ],
   "source": [
    "# remove\n",
    "t = (1,2,3,4,5,6)\n",
    "t1 = list(t)\n",
    "print(t1)\n",
    "t1.remove(3)\n",
    "t = tuple(t1)\n",
    "print(t1)"
   ]
  },
  {
   "cell_type": "code",
   "execution_count": 50,
   "id": "e0c9d052",
   "metadata": {},
   "outputs": [
    {
     "name": "stdout",
     "output_type": "stream",
     "text": [
      "[1, 2, 3, 4, 5, 6]\n",
      "[1, 2, 4, 5, 6]\n"
     ]
    }
   ],
   "source": [
    "# pop \n",
    "t = (1,2,3,4,5,6)\n",
    "t1 = list(t)\n",
    "print(t1)\n",
    "t1.pop(2)\n",
    "t = tuple(t1)\n",
    "print(t1)"
   ]
  },
  {
   "cell_type": "code",
   "execution_count": 54,
   "id": "30b1ff6d",
   "metadata": {},
   "outputs": [
    {
     "name": "stdout",
     "output_type": "stream",
     "text": [
      "[1, 2, 3, 4, 5, 6]\n",
      "[1, 2, 4, 5, 6]\n"
     ]
    }
   ],
   "source": [
    "# del \n",
    "t = (1,2,3,4,5,6)\n",
    "t1 = list(t)\n",
    "print(t1)\n",
    "del t1[2]\n",
    "t = tuple(t1)\n",
    "print(t1)"
   ]
  },
  {
   "cell_type": "code",
   "execution_count": 58,
   "id": "91a24e13",
   "metadata": {},
   "outputs": [
    {
     "name": "stdout",
     "output_type": "stream",
     "text": [
      "[1, 4, 5, 6, 8, 9]\n"
     ]
    }
   ],
   "source": [
    "#sort\n",
    "t = (1,8,5,4,9,6)\n",
    "t1 = list(t)\n",
    "t1.sort()\n",
    "t = tuple(t1)\n",
    "print(t1)"
   ]
  },
  {
   "cell_type": "code",
   "execution_count": 59,
   "id": "20b6c857",
   "metadata": {},
   "outputs": [
    {
     "name": "stdout",
     "output_type": "stream",
     "text": [
      "[1, 2, 3, 4, 5, 6, 7, 8, 9]\n",
      "[9, 8, 7, 6, 5, 4, 3, 2, 1]\n"
     ]
    }
   ],
   "source": [
    "# reversed\n",
    "t = (1,2,3,4,5,6,7,8,9)\n",
    "t1 = list(t)\n",
    "print(t1)\n",
    "t1.reverse()\n",
    "t = tuple(t1)\n",
    "print(t1)"
   ]
  },
  {
   "cell_type": "code",
   "execution_count": 63,
   "id": "5c425cda",
   "metadata": {},
   "outputs": [
    {
     "name": "stdout",
     "output_type": "stream",
     "text": [
      "[1, 2, 3]\n"
     ]
    }
   ],
   "source": [
    "# copy \n",
    "t = (1,2,3,)\n",
    "t1 = list(t)\n",
    "t2 = t1.copy()\n",
    "t = tuple(t2)\n",
    "print(t1)"
   ]
  },
  {
   "cell_type": "code",
   "execution_count": 67,
   "id": "3dc54458",
   "metadata": {},
   "outputs": [
    {
     "ename": "TypeError",
     "evalue": "'int' object is not iterable",
     "output_type": "error",
     "traceback": [
      "\u001b[1;31m---------------------------------------------------------------------------\u001b[0m",
      "\u001b[1;31mTypeError\u001b[0m                                 Traceback (most recent call last)",
      "\u001b[1;32m<ipython-input-67-d37b91a37baf>\u001b[0m in \u001b[0;36m<module>\u001b[1;34m\u001b[0m\n\u001b[0;32m      3\u001b[0m \u001b[0mt1\u001b[0m \u001b[1;33m=\u001b[0m \u001b[0mlist\u001b[0m\u001b[1;33m(\u001b[0m\u001b[0mt\u001b[0m\u001b[1;33m)\u001b[0m\u001b[1;33m\u001b[0m\u001b[1;33m\u001b[0m\u001b[0m\n\u001b[0;32m      4\u001b[0m \u001b[0mt2\u001b[0m \u001b[1;33m=\u001b[0m\u001b[0mt1\u001b[0m\u001b[1;33m.\u001b[0m\u001b[0mcount\u001b[0m\u001b[1;33m(\u001b[0m\u001b[1;36m2\u001b[0m\u001b[1;33m)\u001b[0m\u001b[1;33m\u001b[0m\u001b[1;33m\u001b[0m\u001b[0m\n\u001b[1;32m----> 5\u001b[1;33m \u001b[0mt2\u001b[0m \u001b[1;33m=\u001b[0m \u001b[0mtuple\u001b[0m\u001b[1;33m(\u001b[0m\u001b[0mt2\u001b[0m\u001b[1;33m)\u001b[0m\u001b[1;33m\u001b[0m\u001b[1;33m\u001b[0m\u001b[0m\n\u001b[0m\u001b[0;32m      6\u001b[0m \u001b[0mprint\u001b[0m\u001b[1;33m(\u001b[0m\u001b[0mt\u001b[0m\u001b[1;33m)\u001b[0m\u001b[1;33m\u001b[0m\u001b[1;33m\u001b[0m\u001b[0m\n",
      "\u001b[1;31mTypeError\u001b[0m: 'int' object is not iterable"
     ]
    }
   ],
   "source": [
    "# count\n",
    "t = (1,2,3,4,5,2,2)\n",
    "t1 = list(t)\n",
    "t2 =t1.count(2)\n",
    "t = tuple(t2)\n",
    "print(t1)"
   ]
  },
  {
   "cell_type": "code",
   "execution_count": null,
   "id": "f81b66e3",
   "metadata": {},
   "outputs": [],
   "source": []
  }
 ],
 "metadata": {
  "kernelspec": {
   "display_name": "Python 3",
   "language": "python",
   "name": "python3"
  },
  "language_info": {
   "codemirror_mode": {
    "name": "ipython",
    "version": 3
   },
   "file_extension": ".py",
   "mimetype": "text/x-python",
   "name": "python",
   "nbconvert_exporter": "python",
   "pygments_lexer": "ipython3",
   "version": "3.8.8"
  }
 },
 "nbformat": 4,
 "nbformat_minor": 5
}
